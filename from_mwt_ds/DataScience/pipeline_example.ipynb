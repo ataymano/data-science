{
 "cells": [
  {
   "cell_type": "code",
   "execution_count": 1,
   "source": [
    "from ccb.dsjson.processor import Processor\r\n",
    "from pipeline.utils import Mapper\r\n",
    "from pipeline.core import NdJsonFiles\r\n",
    "\r\n",
    "from pathlib import Path\r\n",
    "\r\n",
    "import json\r\n",
    "\r\n",
    "data_folder = Path('vw_executor/tests/data/').absolute()\r\n",
    "vw_cache_folder = data_folder.joinpath('.vw_cache').absolute()"
   ],
   "outputs": [],
   "metadata": {}
  },
  {
   "cell_type": "code",
   "execution_count": 2,
   "source": [
    "fileset = NdJsonFiles(files=list(sorted(Path(data_folder).glob('ccb_*.json'))))"
   ],
   "outputs": [],
   "metadata": {}
  },
  {
   "cell_type": "code",
   "execution_count": 3,
   "source": [
    "print(f'Number of files: {len(fileset)}')\r\n",
    "print(f'Path of first file: {fileset[0]}')\r\n",
    "print(f'First object:')\r\n",
    "print(next(fileset.read(0)))"
   ],
   "outputs": [
    {
     "output_type": "stream",
     "name": "stdout",
     "text": [
      "Number of files: 2\n",
      "Path of first file: c:\\src\\github\\ataymano\\data-science\\from_mwt_ds\\DataScience\\vw_executor\\tests\\data\\ccb_0.json\n",
      "First object:\n",
      "{'c': {'context': {'f': '1'}, '_multi': [{'a': {'f': '1'}}, {'a': {'f': '2'}}, {'a': {'f': '3'}}], '_slots': [{'s': {'f': '1'}}, {'s': {'f': '2'}}]}, '_outcomes': [{'_label_cost': 0, '_a': [2, 0, 1], '_p': [0.5, 0.25, 0.25]}, {'_label_cost': 1, '_a': [0, 1], '_p': [0.5, 0.5]}]}\n"
     ]
    }
   ],
   "metadata": {}
  },
  {
   "cell_type": "code",
   "execution_count": 6,
   "source": [
    "def my_processor(objects):\r\n",
    "    for o in objects:\r\n",
    "        o['c']['context']['f2'] = o['c']['context']['f'] + '_0'\r\n",
    "        for a in o['c']['_multi']:\r\n",
    "            a['a']['f2'] = a['a']['f'] + '_0'\r\n",
    "        yield o\r\n",
    "\r\n",
    "processed = NdJsonFiles().init(\r\n",
    "    fileset.process(\r\n",
    "        my_processor,\r\n",
    "        path_gen=Mapper(data_folder, data_folder.joinpath('processed')),\r\n",
    "        process=True\r\n",
    "    ))"
   ],
   "outputs": [
    {
     "output_type": "display_data",
     "data": {
      "application/vnd.jupyter.widget-view+json": {
       "version_major": 2,
       "version_minor": 0,
       "model_id": "4df0248901534d2e9ef7433b3b470e77"
      },
      "text/plain": [
       "Progress:   0%|          | 0/2 [00:00<?, ?it/s]"
      ]
     },
     "metadata": {}
    }
   ],
   "metadata": {}
  },
  {
   "cell_type": "code",
   "execution_count": 5,
   "source": [
    "copy = processed.copy(Mapper(data_folder.joinpath('processed'), data_folder.joinpath('processed_copy')))"
   ],
   "outputs": [],
   "metadata": {}
  },
  {
   "cell_type": "code",
   "execution_count": null,
   "source": [],
   "outputs": [],
   "metadata": {}
  }
 ],
 "metadata": {
  "orig_nbformat": 4,
  "language_info": {
   "name": "python",
   "version": "3.9.5",
   "mimetype": "text/x-python",
   "codemirror_mode": {
    "name": "ipython",
    "version": 3
   },
   "pygments_lexer": "ipython3",
   "nbconvert_exporter": "python",
   "file_extension": ".py"
  },
  "kernelspec": {
   "name": "python3",
   "display_name": "Python 3.9.5 64-bit ('base': conda)"
  },
  "interpreter": {
   "hash": "e6d91e144c1e8b75ccdd4259c6213e15c7f5d1d664ef01abea10605a34f365c2"
  }
 },
 "nbformat": 4,
 "nbformat_minor": 2
}