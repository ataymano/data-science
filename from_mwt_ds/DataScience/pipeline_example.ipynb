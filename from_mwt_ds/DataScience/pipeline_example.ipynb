{
 "cells": [
  {
   "cell_type": "code",
   "execution_count": null,
   "source": [
    "from ccb.dsjson.processor import Processor\r\n",
    "from pipeline.utils import Mapper\r\n",
    "from pipeline.core import NdJsonFiles\r\n",
    "\r\n",
    "from pathlib import Path\r\n",
    "\r\n",
    "import json\r\n",
    "\r\n",
    "data_folder = Path('vw_executor/tests/data/').absolute()\r\n",
    "vw_cache_folder = data_folder.joinpath('.vw_cache').absolute()"
   ],
   "outputs": [],
   "metadata": {}
  },
  {
   "cell_type": "code",
   "execution_count": null,
   "source": [
    "fileset = NdJsonFiles(files=list(sorted(Path(data_folder).glob('ccb_*.json'))))"
   ],
   "outputs": [],
   "metadata": {}
  },
  {
   "cell_type": "code",
   "execution_count": null,
   "source": [
    "print(f'Number of files: {len(fileset)}')\r\n",
    "print(f'Path of first file: {fileset[0]}')\r\n",
    "print(f'First object:')\r\n",
    "print(next(fileset.read(0)))"
   ],
   "outputs": [],
   "metadata": {}
  },
  {
   "cell_type": "code",
   "execution_count": null,
   "source": [
    "def my_processor(objects):\r\n",
    "    for o in objects:\r\n",
    "        o['c']['context']['f2'] = o['c']['context']['f'] + '_0'\r\n",
    "        for a in o['c']['_multi']:\r\n",
    "            a['a']['f2'] = a['a']['f'] + '_0'\r\n",
    "        yield o\r\n",
    "\r\n",
    "processed = NdJsonFiles().init(\r\n",
    "    fileset.process(\r\n",
    "        my_processor,\r\n",
    "        path_gen=Mapper(data_folder, data_folder.joinpath('processed')),\r\n",
    "        process=True\r\n",
    "    ))"
   ],
   "outputs": [],
   "metadata": {}
  },
  {
   "cell_type": "code",
   "execution_count": null,
   "source": [
    "copy = processed.copy(mapper=Mapper(data_folder.joinpath('processed'), data_folder.joinpath('processed_copy_2')))"
   ],
   "outputs": [],
   "metadata": {}
  },
  {
   "cell_type": "code",
   "execution_count": null,
   "source": [
    "len(copy)"
   ],
   "outputs": [],
   "metadata": {}
  },
  {
   "cell_type": "code",
   "execution_count": null,
   "source": [],
   "outputs": [],
   "metadata": {}
  }
 ],
 "metadata": {
  "orig_nbformat": 4,
  "language_info": {
   "name": "python",
   "version": "3.9.5",
   "mimetype": "text/x-python",
   "codemirror_mode": {
    "name": "ipython",
    "version": 3
   },
   "pygments_lexer": "ipython3",
   "nbconvert_exporter": "python",
   "file_extension": ".py"
  },
  "kernelspec": {
   "name": "python3",
   "display_name": "Python 3.9.5 64-bit ('base': conda)"
  },
  "interpreter": {
   "hash": "e6d91e144c1e8b75ccdd4259c6213e15c7f5d1d664ef01abea10605a34f365c2"
  }
 },
 "nbformat": 4,
 "nbformat_minor": 2
}