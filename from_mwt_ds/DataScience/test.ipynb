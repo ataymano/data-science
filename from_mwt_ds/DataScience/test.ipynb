{
 "cells": [
  {
   "cell_type": "code",
   "execution_count": null,
   "metadata": {},
   "outputs": [],
   "source": [
    "from vw_executor.vw import Vw\n",
    "from vw_executor.vw_opts import Grid\n",
    "from vw_sim.simulation import Simulation\n",
    "from vw_sim.example import Regression\n",
    "from vw_sim.core import ExampleFactory\n",
    "from vw_sim.utils import save\n",
    "import random\n",
    "\n",
    "vw = Vw('.cache', 'vw')"
   ]
  },
  {
   "cell_type": "code",
   "execution_count": null,
   "metadata": {},
   "outputs": [],
   "source": [
    "sim = Simulation.run(\n",
    "    ExampleFactory(\n",
    "        features = {\n",
    "            'a': {\n",
    "                'x': lambda _: random.random() * 10,\n",
    "                'y': lambda _: random.random()\n",
    "            }\n",
    "        },\n",
    "        label = lambda obj, _: obj['a']['x']*obj['a']['y'] + 2 * obj['a']['x'] + 1,\n",
    "        example_type = Regression\n",
    "    ),\n",
    "    10000\n",
    ")\n",
    "path = save(sim.txt, folder='data')\n",
    "path"
   ]
  },
  {
   "cell_type": "code",
   "execution_count": null,
   "metadata": {},
   "outputs": [],
   "source": [
    "import pandas as pd\n",
    "results = vw.train(\n",
    "    path,\n",
    "    pd.DataFrame(Grid({\n",
    "        '#args': ['--coin', '--freegrad', '--learning_rate 0.1', '--learning_rate 0.5', '--learning_rate 2'],\n",
    "        '#interactions': ['', '-q aa']\n",
    "    })))\n",
    "results"
   ]
  },
  {
   "cell_type": "code",
   "execution_count": null,
   "outputs": [],
   "source": [],
   "metadata": {
    "collapsed": false
   }
  }
 ],
 "metadata": {
  "kernelspec": {
   "display_name": "Python 3",
   "language": "python",
   "name": "python3"
  },
  "language_info": {
   "codemirror_mode": {
    "name": "ipython",
    "version": 3
   },
   "file_extension": ".py",
   "mimetype": "text/x-python",
   "name": "python",
   "nbconvert_exporter": "python",
   "pygments_lexer": "ipython3",
   "version": "3.10.9"
  },
  "orig_nbformat": 4,
  "vscode": {
   "interpreter": {
    "hash": "cc2a200e1e6dab10c4dc3986f0e7a998296447c993c26561a1bd050a849d8214"
   }
  }
 },
 "nbformat": 4,
 "nbformat_minor": 2
}
